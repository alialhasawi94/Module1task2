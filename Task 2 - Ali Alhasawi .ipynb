{
 "cells": [
  {
   "cell_type": "code",
   "execution_count": 6,
   "id": "8d231fbf-e403-4f27-83c8-6a32cc6f204d",
   "metadata": {
    "tags": []
   },
   "outputs": [
    {
     "ename": "IndentationError",
     "evalue": "unindent does not match any outer indentation level (<tokenize>, line 26)",
     "output_type": "error",
     "traceback": [
      "\u001b[1;36m  File \u001b[1;32m<tokenize>:26\u001b[1;36m\u001b[0m\n\u001b[1;33m    res = requests.get(url)\u001b[0m\n\u001b[1;37m    ^\u001b[0m\n\u001b[1;31mIndentationError\u001b[0m\u001b[1;31m:\u001b[0m unindent does not match any outer indentation level\n"
     ]
    }
   ],
   "source": [
    "import os\n",
    "import requests\n",
    "from bs4 import BeautifulSoup\n",
    "import time\n",
    "import random\n",
    "\n",
    "# Defining a function to mimic human-like headers and request intervals\n",
    "def get_request_headers():\n",
    "    user_agents = [\n",
    "        'Mozilla/5.0 (Windows NT 10.0; Win64; x64) AppleWebKit/537.36 (KHTML, like Gecko) Chrome/70.0.3538.77 Safari/537.36',\n",
    "        'Mozilla/5.0 (Windows NT 10.0; Win64; x64; rv:63.0) Gecko/20100101 Firefox/63.0',\n",
    "        'Mozilla/5.0 (X11; Linux x86_64) AppleWebKit/537.36 (KHTML, like Gecko) Chrome/70.0.3538.77 Safari/537.36'\n",
    "    ]\n",
    "\n",
    "    headers = {\n",
    "        'User-Agent': random.choice(user_agents)\n",
    "    }\n",
    "\n",
    "    return headers\n",
    "\n",
    "# Sraping the Medium article\n",
    "def scrape_medium_article(url):\n",
    "    # random interval to mimic human behavior\n",
    "    time.sleep(random.uniform(1, 3))\n",
    "\n",
    "    # obtain the article content using a random User-Agent header\n",
    "    response = requests.get(url, headers=get_request_headers())\n",
    "\n",
    "    # Check if request was successful\n",
    "    if response.status_code != 200:\n",
    "        print(\"Failed to retrieve the web page.\")\n",
    "        return\n",
    "\n",
    "    # Parse the page content\n",
    "    soup = BeautifulSoup(response.content, 'html.parser')\n",
    "\n",
    "    # Extracting the article content\n",
    "    article_content = soup.find('article')\n",
    "    if not article_content:\n",
    "        print(\"Failed to find the article content.\")\n",
    "        return\n",
    "\n",
    "    # Extract text from article\n",
    "    article_text = article_content.get_text()\n",
    "\n",
    "    return article_text\n",
    "\n",
    "# save scraped content to a file\n",
    "def save_to_file(text, filename):\n",
    "    with open(filename, 'w', encoding='utf-8') as file:\n",
    "        file.write(text)\n",
    "\n",
    "if __name__ == \"__main__\":\n",
    "    # URL input\n",
    "    url = input(\"Please paste the Medium article URL: \")\n",
    "    article_data = scrape_medium_article(url)\n",
    "\n",
    "    if article_data:\n",
    "        # Save content to file\n",
    "        filename = \"saved_article.txt\"\n",
    "        save_to_file(article_data, filename)\n",
    "        print(f\"Article content saved in {filename}.\")\n",
    "    else:\n",
    "        print(\"Failed to fetch article content.\")\n"
   ]
  },
  {
   "cell_type": "code",
   "execution_count": null,
   "id": "bf3de6fa-dec7-4258-ade1-6312fa2c9558",
   "metadata": {},
   "outputs": [],
   "source": []
  },
  {
   "cell_type": "code",
   "execution_count": null,
   "id": "3c8669f5-6e4d-4435-bc6f-68bac54f292f",
   "metadata": {},
   "outputs": [],
   "source": []
  }
 ],
 "metadata": {
  "kernelspec": {
   "display_name": "Python 3 (ipykernel)",
   "language": "python",
   "name": "python3"
  },
  "language_info": {
   "codemirror_mode": {
    "name": "ipython",
    "version": 3
   },
   "file_extension": ".py",
   "mimetype": "text/x-python",
   "name": "python",
   "nbconvert_exporter": "python",
   "pygments_lexer": "ipython3",
   "version": "3.11.4"
  }
 },
 "nbformat": 4,
 "nbformat_minor": 5
}
